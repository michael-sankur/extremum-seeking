{
 "cells": [
  {
   "cell_type": "markdown",
   "id": "26f51a54-cde9-4f87-a8f5-a2176540f775",
   "metadata": {},
   "source": [
    "# Extremum Seeking\n",
    "\n",
    "Multi-dimensional Extremum Seeking Algorithm that minimizes or maximizes a single local objective function.\n",
    "\n",
    "ND-ES searches over N dimensions, with probes that have different frequencies. Probe frequencies must meet two important conditions."
   ]
  },
  {
   "cell_type": "code",
   "execution_count": null,
   "id": "9b90a9ac-9558-42b7-8ff6-7e49af2ecef5",
   "metadata": {},
   "outputs": [],
   "source": [
    "# Imports\n",
    "\n",
    "import numpy as np\n",
    "import matplotlib.pyplot as plt\n",
    "\n",
    "from lib.ExtremumSeekingSimple1D import ExtremumSeekingSimple1D\n",
    "from lib.ExtremumSeekingSimple2D import ExtremumSeekingSimple2D\n",
    "from lib.ExtremumSeekingSimpleND import ExtremumSeekingSimpleND\n",
    "\n",
    "from lib.System_Module import PassThroughSystem\n",
    "\n",
    "from lib.Objective_Function_Module import ObjectiveFunction\n",
    "\n",
    "from lib.Simulation_Module import Simulation\n",
    "\n",
    "from lib.Plotting_Module import plot_es_results\n",
    "\n"
   ]
  },
  {
   "cell_type": "markdown",
   "id": "215f620b-9900-44e1-beb2-4c4aa960455b",
   "metadata": {},
   "source": [
    "### Example 1: Simulation of ND-ES with simple passthrough system\n",
    "\n",
    "In this example, a single 2D ESC minimizes the value of an objective function, by estimating the optimal input to an unknown system.\n",
    "\n",
    "System: $\\textbf{y} ( t ) = \\begin{bmatrix} 1 & 0 & 0 \\\\ 0 & 1 & 0 \\\\ 0 & 0 & 1 \\\\ 1 & 1 & 1 \\end{bmatrix} \\textbf{u} ( t )$\n",
    "\n",
    "Objective function: $\\left( \\textbf{y} - \\textbf{y}^{*} \\right)^{T} \\left( \\textbf{y} - \\textbf{y}^{*} \\right) = \\left( y_{1} - y_{1}^{*} \\right)^{2} + \\left( y_{2} - y_{2}^{*} \\right)^{2} + \\left( y_{3} - y_{3}^{*} \\right)^{2} + \\left( y_{4} - y_{4}^{*} \\right)^{2}$\n",
    "\n",
    "Reference: $\\textbf{y}^{*} = \\left[ 1, -1, 1.5, 3 \\right]^{T}$"
   ]
  },
  {
   "cell_type": "code",
   "execution_count": null,
   "id": "583717a0-4852-4a71-961e-1a2f7a0e37bd",
   "metadata": {},
   "outputs": [],
   "source": [
    "# Setup and run simulation of simple passthrough system with multiple ES operating in parallel to minimize/maximize two separate objective functions\n",
    "\n",
    "\n",
    "# define pass-through system\n",
    "def pass_through_system_01(u):\n",
    "    # return np.array([[1.0, 0, 0], [0, 1, 0], [0, 0, 1]])@u\n",
    "    return np.array([[1.0, 0, 0], [0, 1, 0], [0, 0, 1], [1, 1, 1]])@u\n",
    "\n",
    "# define objhective function\n",
    "def objective_function_01(y, ystar):\n",
    "    return np.sum((y - ystar)**2)\n",
    "\n",
    "# setup time\n",
    "dT = 0.01 # simulation timestep\n",
    "time = np.arange(0,30+dT,dT)\n",
    "\n",
    "# desired system output (reference signal)\n",
    "ystar = np.zeros((4,len(time)))\n",
    "ystar[0,:] = 1\n",
    "ystar[1,:] = -1\n",
    "ystar[2,:] = 1.5\n",
    "ystar[3,:] = 3\n",
    "\n",
    "# initialize pass-through system object\n",
    "PST01 = PassThroughSystem(time, dT, 3, 4, pass_through_system_01, ystar)\n",
    "\n",
    "# initialize objective function object\n",
    "OBJ01 = ObjectiveFunction(time, dT, objective_function_01, ystar)\n",
    "\n",
    "# initialize 2D ES\n",
    "ESC01 = ExtremumSeekingSimpleND(time, dT, 3, [1, 1.1, 1.2], [0.2, 0.2, 0.2], [0.2, 0.2, 0.2], \"minimize\", name=\"NDES_01\")\n",
    "\n",
    "# pass list of ES algorithm(s) to system object(s)\n",
    "PST01.set_es_list([ESC01])\n",
    "\n",
    "# pass list of system(s) to objective function object(s)\n",
    "OBJ01.set_system_list([PST01])\n",
    "\n",
    "# intialize simulation\n",
    "sim = Simulation(time, dT, [PST01], [ESC01], [OBJ01])\n",
    "\n",
    "# run simuation\n",
    "sim.run_simulation()\n",
    "    \n",
    "print(\"Simulation Complete\")\n",
    "\n",
    "# plot results\n",
    "plot_es_results(time, dT, [sim], [PST01], [OBJ01], [ESC01], OBJ01.ystar)\n",
    "    "
   ]
  },
  {
   "cell_type": "code",
   "execution_count": null,
   "id": "dc594cda-c9a4-43d0-b441-835b20007cf8",
   "metadata": {},
   "outputs": [],
   "source": []
  }
 ],
 "metadata": {
  "kernelspec": {
   "display_name": "Python 3 (ipykernel)",
   "language": "python",
   "name": "python3"
  },
  "language_info": {
   "codemirror_mode": {
    "name": "ipython",
    "version": 3
   },
   "file_extension": ".py",
   "mimetype": "text/x-python",
   "name": "python",
   "nbconvert_exporter": "python",
   "pygments_lexer": "ipython3",
   "version": "3.11.4"
  }
 },
 "nbformat": 4,
 "nbformat_minor": 5
}
